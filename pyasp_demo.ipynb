{
 "cells": [
  {
   "cell_type": "markdown",
   "metadata": {},
   "source": [
    "# PyASP basics\n",
    "\n",
    "In the following I try to explain the basics on how to use the PyASP library. I assume that pyasp is already installed on your system. This tutorial has been tested with Python 3 and pyasp 1.4.4. You can download the logic programs that are used in this example here -> [queens.lp](http://sthiele.github.io/data/queens.lp) and [facts.lp](http://sthiele.github.io/data/facts.lp). \n"
   ]
  },
  {
   "cell_type": "markdown",
   "metadata": {},
   "source": [
    "First you need to download the logic programs for our running example."
   ]
  },
  {
   "cell_type": "code",
   "execution_count": 1,
   "metadata": {
    "collapsed": false
   },
   "outputs": [
    {
     "data": {
      "text/plain": [
       "('facts.lp', <http.client.HTTPMessage at 0x7f213c1ade10>)"
      ]
     },
     "execution_count": 1,
     "metadata": {},
     "output_type": "execute_result"
    }
   ],
   "source": [
    "from urllib.request import urlretrieve\n",
    "urlretrieve('http://sthiele.github.io/data/queens.lp','queens.lp')\n",
    "urlretrieve('http://sthiele.github.io/data/facts.lp','facts.lp')"
   ]
  },
  {
   "cell_type": "markdown",
   "metadata": {},
   "source": [
    "\n",
    "Import the pyasp library."
   ]
  },
  {
   "cell_type": "code",
   "execution_count": 2,
   "metadata": {
    "collapsed": false
   },
   "outputs": [],
   "source": [
    "from pyasp.asp import *"
   ]
  },
  {
   "cell_type": "markdown",
   "metadata": {},
   "source": [
    "Create a solver object.\n",
    "Before creating a solver object you need to declare what options your solver should run with. There are two kind of options the options for the grounder (see gringo documentation) and the options for the solver (see clasp documentation). In this example our only solver option is '2' which means we are looking for atmost 2 solutions."
   ]
  },
  {
   "cell_type": "code",
   "execution_count": 3,
   "metadata": {
    "collapsed": false
   },
   "outputs": [],
   "source": [
    "goptions = ''\n",
    "soptions = ' 2'\n",
    "solver   = Gringo4Clasp(gringo_options=goptions, clasp_options=soptions)"
   ]
  },
  {
   "cell_type": "markdown",
   "metadata": {},
   "source": [
    "Start the solver with some input.\n",
    "Just like gringo the run method of the solver object accepts a list of input files. Here we use the encoding of the queens problems and solve it for a size of 10 as declared in facts.lp. "
   ]
  },
  {
   "cell_type": "code",
   "execution_count": 4,
   "metadata": {
    "collapsed": false
   },
   "outputs": [],
   "source": [
    "result   = solver.run(['queens.lp', 'facts.lp'], collapseTerms=True, collapseAtoms=False)"
   ]
  },
  {
   "cell_type": "markdown",
   "metadata": {},
   "source": [
    "The result is a list of the solutions as TermSets. "
   ]
  },
  {
   "cell_type": "code",
   "execution_count": 5,
   "metadata": {
    "collapsed": false
   },
   "outputs": [
    {
     "name": "stdout",
     "output_type": "stream",
     "text": [
      "[TermSet({Term('q',['3','4']), Term('q',['2','10']), Term('q',['8','3']), Term('q',['10','9']), Term('q',['9','6']), Term('q',['6','2']), Term('q',['7','5']), Term('q',['4','8']), Term('q',['1','1']), Term('q',['5','7'])}), TermSet({Term('q',['3','4']), Term('q',['2','10']), Term('q',['6','3']), Term('q',['7','2']), Term('q',['10','9']), Term('q',['4','8']), Term('q',['9','5']), Term('q',['8','6']), Term('q',['1','1']), Term('q',['5','7'])})]\n"
     ]
    }
   ],
   "source": [
    "print(result)"
   ]
  },
  {
   "cell_type": "markdown",
   "metadata": {},
   "source": [
    "Create your own set of facts.\n",
    "You can also create your own facts from within python and feed it as input to the solver. So far we have solved the 10-queens problem. Now we create a new set of facts including 'd(11)' and 'd(12)' and solve the 12-queens problem. "
   ]
  },
  {
   "cell_type": "code",
   "execution_count": 6,
   "metadata": {
    "collapsed": false
   },
   "outputs": [],
   "source": [
    "newfacts = TermSet()\n",
    "newterm1 = Term('d', [\"11\"])\n",
    "newfacts.add(newterm1)\n",
    "newterm2 = Term('d', [\"12\"])\n",
    "newfacts.add(newterm2)\n",
    "result   = solver.run(['queens.lp', 'facts.lp', newfacts.to_file()], collapseTerms=True, collapseAtoms=False)"
   ]
  },
  {
   "cell_type": "markdown",
   "metadata": {},
   "source": [
    "Now the result contains 2 solutions to the 12-queens problem."
   ]
  },
  {
   "cell_type": "code",
   "execution_count": 7,
   "metadata": {
    "collapsed": false
   },
   "outputs": [
    {
     "name": "stdout",
     "output_type": "stream",
     "text": [
      "[TermSet({Term('q',['10','7']), Term('q',['4','12']), Term('q',['3','8']), Term('q',['12','1']), Term('q',['9','3']), Term('q',['11','11']), Term('q',['7','9']), Term('q',['2','5']), Term('q',['8','6']), Term('q',['1','2']), Term('q',['5','4']), Term('q',['6','10'])}), TermSet({Term('q',['10','7']), Term('q',['4','12']), Term('q',['3','8']), Term('q',['9','1']), Term('q',['11','11']), Term('q',['7','9']), Term('q',['2','5']), Term('q',['8','6']), Term('q',['1','2']), Term('q',['5','4']), Term('q',['6','10']), Term('q',['12','3'])})]\n"
     ]
    }
   ],
   "source": [
    "print(result)"
   ]
  },
  {
   "cell_type": "markdown",
   "metadata": {},
   "source": [
    "Parse and pretty print your solutions."
   ]
  },
  {
   "cell_type": "code",
   "execution_count": 8,
   "metadata": {
    "collapsed": false
   },
   "outputs": [
    {
     "name": "stdout",
     "output_type": "stream",
     "text": [
      "Solution 1:\n",
      "    q(10,7) q(4,12) q(3,8) q(12,1) q(9,3) q(11,11) q(7,9) q(2,5) q(8,6) q(1,2) q(5,4) q(6,10) \n",
      "Solution 2:\n",
      "    q(10,7) q(4,12) q(3,8) q(9,1) q(11,11) q(7,9) q(2,5) q(8,6) q(1,2) q(5,4) q(6,10) q(12,3) \n"
     ]
    }
   ],
   "source": [
    "count=1\n",
    "for s in result :\n",
    "  print('Solution '+str(count)+':')\n",
    "  print('   ', end=' ')\n",
    "  for a in s :\n",
    "    args= \",\".join(a.args())\n",
    "    print(a.pred(),'(',args,')',sep='',end=' ')\n",
    "  print()\n",
    "  count+=1"
   ]
  },
  {
   "cell_type": "code",
   "execution_count": null,
   "metadata": {
    "collapsed": true
   },
   "outputs": [],
   "source": []
  }
 ],
 "metadata": {
  "kernelspec": {
   "display_name": "Python 3",
   "language": "python",
   "name": "python3"
  },
  "language_info": {
   "codemirror_mode": {
    "name": "ipython",
    "version": 3
   },
   "file_extension": ".py",
   "mimetype": "text/x-python",
   "name": "python",
   "nbconvert_exporter": "python",
   "pygments_lexer": "ipython3",
   "version": "3.5.1"
  }
 },
 "nbformat": 4,
 "nbformat_minor": 0
}
